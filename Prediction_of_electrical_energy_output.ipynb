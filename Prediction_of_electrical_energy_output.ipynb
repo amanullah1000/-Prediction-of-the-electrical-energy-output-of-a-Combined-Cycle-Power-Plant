{
  "nbformat": 4,
  "nbformat_minor": 0,
  "metadata": {
    "colab": {
      "name": "Prediction of electrical energy output.ipynb",
      "provenance": []
    },
    "kernelspec": {
      "name": "python3",
      "display_name": "Python 3"
    },
    "language_info": {
      "name": "python"
    }
  },
  "cells": [
    {
      "cell_type": "code",
      "execution_count": 22,
      "metadata": {
        "id": "3UvsJIqtotu_"
      },
      "outputs": [],
      "source": [
        "import numpy as np\n",
        "import pandas as pd\n",
        "import tensorflow as tf"
      ]
    },
    {
      "cell_type": "code",
      "source": [
        "tf.__version__"
      ],
      "metadata": {
        "colab": {
          "base_uri": "https://localhost:8080/",
          "height": 36
        },
        "id": "smPpbB2ztR23",
        "outputId": "ca1878b6-d645-44e0-d205-c34080174bb8"
      },
      "execution_count": 23,
      "outputs": [
        {
          "output_type": "execute_result",
          "data": {
            "application/vnd.google.colaboratory.intrinsic+json": {
              "type": "string"
            },
            "text/plain": [
              "'2.7.0'"
            ]
          },
          "metadata": {},
          "execution_count": 23
        }
      ]
    },
    {
      "cell_type": "code",
      "source": [
        "#Importing the dataset\n",
        "data = pd.read_excel('/content/Folds5x2_pp.xlsx')\n",
        "data.head()"
      ],
      "metadata": {
        "colab": {
          "base_uri": "https://localhost:8080/",
          "height": 206
        },
        "id": "WjHpKk8ipKyI",
        "outputId": "a92fe330-ad60-4549-9729-734bcd01c5cc"
      },
      "execution_count": 24,
      "outputs": [
        {
          "output_type": "execute_result",
          "data": {
            "text/html": [
              "\n",
              "  <div id=\"df-06878007-51ee-451a-b97d-49d726b6783b\">\n",
              "    <div class=\"colab-df-container\">\n",
              "      <div>\n",
              "<style scoped>\n",
              "    .dataframe tbody tr th:only-of-type {\n",
              "        vertical-align: middle;\n",
              "    }\n",
              "\n",
              "    .dataframe tbody tr th {\n",
              "        vertical-align: top;\n",
              "    }\n",
              "\n",
              "    .dataframe thead th {\n",
              "        text-align: right;\n",
              "    }\n",
              "</style>\n",
              "<table border=\"1\" class=\"dataframe\">\n",
              "  <thead>\n",
              "    <tr style=\"text-align: right;\">\n",
              "      <th></th>\n",
              "      <th>AT</th>\n",
              "      <th>V</th>\n",
              "      <th>AP</th>\n",
              "      <th>RH</th>\n",
              "      <th>PE</th>\n",
              "    </tr>\n",
              "  </thead>\n",
              "  <tbody>\n",
              "    <tr>\n",
              "      <th>0</th>\n",
              "      <td>14.96</td>\n",
              "      <td>41.76</td>\n",
              "      <td>1024.07</td>\n",
              "      <td>73.17</td>\n",
              "      <td>463.26</td>\n",
              "    </tr>\n",
              "    <tr>\n",
              "      <th>1</th>\n",
              "      <td>25.18</td>\n",
              "      <td>62.96</td>\n",
              "      <td>1020.04</td>\n",
              "      <td>59.08</td>\n",
              "      <td>444.37</td>\n",
              "    </tr>\n",
              "    <tr>\n",
              "      <th>2</th>\n",
              "      <td>5.11</td>\n",
              "      <td>39.40</td>\n",
              "      <td>1012.16</td>\n",
              "      <td>92.14</td>\n",
              "      <td>488.56</td>\n",
              "    </tr>\n",
              "    <tr>\n",
              "      <th>3</th>\n",
              "      <td>20.86</td>\n",
              "      <td>57.32</td>\n",
              "      <td>1010.24</td>\n",
              "      <td>76.64</td>\n",
              "      <td>446.48</td>\n",
              "    </tr>\n",
              "    <tr>\n",
              "      <th>4</th>\n",
              "      <td>10.82</td>\n",
              "      <td>37.50</td>\n",
              "      <td>1009.23</td>\n",
              "      <td>96.62</td>\n",
              "      <td>473.90</td>\n",
              "    </tr>\n",
              "  </tbody>\n",
              "</table>\n",
              "</div>\n",
              "      <button class=\"colab-df-convert\" onclick=\"convertToInteractive('df-06878007-51ee-451a-b97d-49d726b6783b')\"\n",
              "              title=\"Convert this dataframe to an interactive table.\"\n",
              "              style=\"display:none;\">\n",
              "        \n",
              "  <svg xmlns=\"http://www.w3.org/2000/svg\" height=\"24px\"viewBox=\"0 0 24 24\"\n",
              "       width=\"24px\">\n",
              "    <path d=\"M0 0h24v24H0V0z\" fill=\"none\"/>\n",
              "    <path d=\"M18.56 5.44l.94 2.06.94-2.06 2.06-.94-2.06-.94-.94-2.06-.94 2.06-2.06.94zm-11 1L8.5 8.5l.94-2.06 2.06-.94-2.06-.94L8.5 2.5l-.94 2.06-2.06.94zm10 10l.94 2.06.94-2.06 2.06-.94-2.06-.94-.94-2.06-.94 2.06-2.06.94z\"/><path d=\"M17.41 7.96l-1.37-1.37c-.4-.4-.92-.59-1.43-.59-.52 0-1.04.2-1.43.59L10.3 9.45l-7.72 7.72c-.78.78-.78 2.05 0 2.83L4 21.41c.39.39.9.59 1.41.59.51 0 1.02-.2 1.41-.59l7.78-7.78 2.81-2.81c.8-.78.8-2.07 0-2.86zM5.41 20L4 18.59l7.72-7.72 1.47 1.35L5.41 20z\"/>\n",
              "  </svg>\n",
              "      </button>\n",
              "      \n",
              "  <style>\n",
              "    .colab-df-container {\n",
              "      display:flex;\n",
              "      flex-wrap:wrap;\n",
              "      gap: 12px;\n",
              "    }\n",
              "\n",
              "    .colab-df-convert {\n",
              "      background-color: #E8F0FE;\n",
              "      border: none;\n",
              "      border-radius: 50%;\n",
              "      cursor: pointer;\n",
              "      display: none;\n",
              "      fill: #1967D2;\n",
              "      height: 32px;\n",
              "      padding: 0 0 0 0;\n",
              "      width: 32px;\n",
              "    }\n",
              "\n",
              "    .colab-df-convert:hover {\n",
              "      background-color: #E2EBFA;\n",
              "      box-shadow: 0px 1px 2px rgba(60, 64, 67, 0.3), 0px 1px 3px 1px rgba(60, 64, 67, 0.15);\n",
              "      fill: #174EA6;\n",
              "    }\n",
              "\n",
              "    [theme=dark] .colab-df-convert {\n",
              "      background-color: #3B4455;\n",
              "      fill: #D2E3FC;\n",
              "    }\n",
              "\n",
              "    [theme=dark] .colab-df-convert:hover {\n",
              "      background-color: #434B5C;\n",
              "      box-shadow: 0px 1px 3px 1px rgba(0, 0, 0, 0.15);\n",
              "      filter: drop-shadow(0px 1px 2px rgba(0, 0, 0, 0.3));\n",
              "      fill: #FFFFFF;\n",
              "    }\n",
              "  </style>\n",
              "\n",
              "      <script>\n",
              "        const buttonEl =\n",
              "          document.querySelector('#df-06878007-51ee-451a-b97d-49d726b6783b button.colab-df-convert');\n",
              "        buttonEl.style.display =\n",
              "          google.colab.kernel.accessAllowed ? 'block' : 'none';\n",
              "\n",
              "        async function convertToInteractive(key) {\n",
              "          const element = document.querySelector('#df-06878007-51ee-451a-b97d-49d726b6783b');\n",
              "          const dataTable =\n",
              "            await google.colab.kernel.invokeFunction('convertToInteractive',\n",
              "                                                     [key], {});\n",
              "          if (!dataTable) return;\n",
              "\n",
              "          const docLinkHtml = 'Like what you see? Visit the ' +\n",
              "            '<a target=\"_blank\" href=https://colab.research.google.com/notebooks/data_table.ipynb>data table notebook</a>'\n",
              "            + ' to learn more about interactive tables.';\n",
              "          element.innerHTML = '';\n",
              "          dataTable['output_type'] = 'display_data';\n",
              "          await google.colab.output.renderOutput(dataTable, element);\n",
              "          const docLink = document.createElement('div');\n",
              "          docLink.innerHTML = docLinkHtml;\n",
              "          element.appendChild(docLink);\n",
              "        }\n",
              "      </script>\n",
              "    </div>\n",
              "  </div>\n",
              "  "
            ],
            "text/plain": [
              "      AT      V       AP     RH      PE\n",
              "0  14.96  41.76  1024.07  73.17  463.26\n",
              "1  25.18  62.96  1020.04  59.08  444.37\n",
              "2   5.11  39.40  1012.16  92.14  488.56\n",
              "3  20.86  57.32  1010.24  76.64  446.48\n",
              "4  10.82  37.50  1009.23  96.62  473.90"
            ]
          },
          "metadata": {},
          "execution_count": 24
        }
      ]
    },
    {
      "cell_type": "code",
      "source": [
        "X = data.iloc[:, :-1].values\n",
        "y = data.iloc[:, -1].values"
      ],
      "metadata": {
        "id": "ydTQEA5QpiZp"
      },
      "execution_count": 25,
      "outputs": []
    },
    {
      "cell_type": "code",
      "source": [
        "#Splitting the dataset into the Training set and Test set\n",
        "from sklearn.model_selection import train_test_split\n",
        "X_train, X_test, y_train, y_test = train_test_split(X, y, test_size = 0.2, random_state = 0)"
      ],
      "metadata": {
        "id": "JUlNJIBCp0vX"
      },
      "execution_count": 26,
      "outputs": []
    },
    {
      "cell_type": "markdown",
      "source": [
        " Building the ANN\n"
      ],
      "metadata": {
        "id": "I8Nf0c-QtfGp"
      }
    },
    {
      "cell_type": "code",
      "source": [
        "# Initializing the ANN\n",
        "ann = tf.keras.models.Sequential()"
      ],
      "metadata": {
        "id": "jgZ8-jJlqPSn"
      },
      "execution_count": 27,
      "outputs": []
    },
    {
      "cell_type": "code",
      "source": [
        "#Adding the input layer and the first hidden layer\n",
        "ann.add(tf.keras.layers.Dense(units=6, activation='relu'))"
      ],
      "metadata": {
        "id": "Tk4OdeAMqaDf"
      },
      "execution_count": 28,
      "outputs": []
    },
    {
      "cell_type": "code",
      "source": [
        "#Adding the second hidden laye\n",
        "ann.add(tf.keras.layers.Dense(units=6, activation='relu'))"
      ],
      "metadata": {
        "id": "1c_SFBZkqrJO"
      },
      "execution_count": 30,
      "outputs": []
    },
    {
      "cell_type": "code",
      "source": [
        "#Adding the third hidden laye\n",
        "ann.add(tf.keras.layers.Dense(units=6, activation='relu'))"
      ],
      "metadata": {
        "id": "YPX-nRarru9-"
      },
      "execution_count": 31,
      "outputs": []
    },
    {
      "cell_type": "code",
      "source": [
        "#Adding the output layer\n",
        "ann.add(tf.keras.layers.Dense(units=1))"
      ],
      "metadata": {
        "id": "X9ssDUuyqyW5"
      },
      "execution_count": 34,
      "outputs": []
    },
    {
      "cell_type": "markdown",
      "source": [
        "Training the ANN"
      ],
      "metadata": {
        "id": "MbDtLGsPtsof"
      }
    },
    {
      "cell_type": "code",
      "source": [
        "#Compiling the ANN\n",
        "ann.compile(optimizer = 'adam', loss = 'mean_squared_error')"
      ],
      "metadata": {
        "id": "u1dS4vuJq6R6"
      },
      "execution_count": 35,
      "outputs": []
    },
    {
      "cell_type": "code",
      "source": [
        "#Training the ANN model on the Training set\n",
        "ann.fit(X_train, y_train, batch_size = 32, epochs = 100)"
      ],
      "metadata": {
        "colab": {
          "base_uri": "https://localhost:8080/"
        },
        "id": "pnXUj1v1rCOz",
        "outputId": "cb1658f0-e807-4633-b558-670dd9b8a2b3"
      },
      "execution_count": 36,
      "outputs": [
        {
          "output_type": "stream",
          "name": "stdout",
          "text": [
            "Epoch 1/100\n",
            "240/240 [==============================] - 1s 2ms/step - loss: 91584.2578\n",
            "Epoch 2/100\n",
            "240/240 [==============================] - 0s 2ms/step - loss: 360.3371\n",
            "Epoch 3/100\n",
            "240/240 [==============================] - 0s 2ms/step - loss: 341.0751\n",
            "Epoch 4/100\n",
            "240/240 [==============================] - 0s 2ms/step - loss: 316.6339\n",
            "Epoch 5/100\n",
            "240/240 [==============================] - 0s 2ms/step - loss: 289.9899\n",
            "Epoch 6/100\n",
            "240/240 [==============================] - 0s 2ms/step - loss: 261.4666\n",
            "Epoch 7/100\n",
            "240/240 [==============================] - 0s 2ms/step - loss: 231.6029\n",
            "Epoch 8/100\n",
            "240/240 [==============================] - 0s 2ms/step - loss: 201.4169\n",
            "Epoch 9/100\n",
            "240/240 [==============================] - 0s 2ms/step - loss: 172.4270\n",
            "Epoch 10/100\n",
            "240/240 [==============================] - 0s 2ms/step - loss: 145.3391\n",
            "Epoch 11/100\n",
            "240/240 [==============================] - 0s 2ms/step - loss: 119.5785\n",
            "Epoch 12/100\n",
            "240/240 [==============================] - 0s 2ms/step - loss: 97.2638\n",
            "Epoch 13/100\n",
            "240/240 [==============================] - 0s 2ms/step - loss: 78.7998\n",
            "Epoch 14/100\n",
            "240/240 [==============================] - 0s 2ms/step - loss: 64.1146\n",
            "Epoch 15/100\n",
            "240/240 [==============================] - 0s 2ms/step - loss: 52.0952\n",
            "Epoch 16/100\n",
            "240/240 [==============================] - 0s 2ms/step - loss: 44.0779\n",
            "Epoch 17/100\n",
            "240/240 [==============================] - 0s 2ms/step - loss: 38.9213\n",
            "Epoch 18/100\n",
            "240/240 [==============================] - 0s 2ms/step - loss: 35.1392\n",
            "Epoch 19/100\n",
            "240/240 [==============================] - 0s 2ms/step - loss: 32.5865\n",
            "Epoch 20/100\n",
            "240/240 [==============================] - 0s 2ms/step - loss: 31.1813\n",
            "Epoch 21/100\n",
            "240/240 [==============================] - 0s 2ms/step - loss: 30.1281\n",
            "Epoch 22/100\n",
            "240/240 [==============================] - 0s 2ms/step - loss: 28.8637\n",
            "Epoch 23/100\n",
            "240/240 [==============================] - 0s 2ms/step - loss: 28.6724\n",
            "Epoch 24/100\n",
            "240/240 [==============================] - 0s 2ms/step - loss: 28.5637\n",
            "Epoch 25/100\n",
            "240/240 [==============================] - 0s 2ms/step - loss: 28.3777\n",
            "Epoch 26/100\n",
            "240/240 [==============================] - 0s 2ms/step - loss: 27.7499\n",
            "Epoch 27/100\n",
            "240/240 [==============================] - 0s 2ms/step - loss: 28.4305\n",
            "Epoch 28/100\n",
            "240/240 [==============================] - 0s 2ms/step - loss: 28.2682\n",
            "Epoch 29/100\n",
            "240/240 [==============================] - 0s 2ms/step - loss: 27.7935\n",
            "Epoch 30/100\n",
            "240/240 [==============================] - 0s 2ms/step - loss: 27.8531\n",
            "Epoch 31/100\n",
            "240/240 [==============================] - 0s 2ms/step - loss: 27.8111\n",
            "Epoch 32/100\n",
            "240/240 [==============================] - 0s 2ms/step - loss: 28.1780\n",
            "Epoch 33/100\n",
            "240/240 [==============================] - 0s 2ms/step - loss: 28.3214\n",
            "Epoch 34/100\n",
            "240/240 [==============================] - 0s 2ms/step - loss: 27.8272\n",
            "Epoch 35/100\n",
            "240/240 [==============================] - 0s 2ms/step - loss: 28.5508\n",
            "Epoch 36/100\n",
            "240/240 [==============================] - 0s 2ms/step - loss: 28.6181\n",
            "Epoch 37/100\n",
            "240/240 [==============================] - 0s 2ms/step - loss: 28.4508\n",
            "Epoch 38/100\n",
            "240/240 [==============================] - 0s 2ms/step - loss: 27.9777\n",
            "Epoch 39/100\n",
            "240/240 [==============================] - 0s 2ms/step - loss: 27.9932\n",
            "Epoch 40/100\n",
            "240/240 [==============================] - 0s 2ms/step - loss: 28.0597\n",
            "Epoch 41/100\n",
            "240/240 [==============================] - 0s 2ms/step - loss: 27.5655\n",
            "Epoch 42/100\n",
            "240/240 [==============================] - 0s 2ms/step - loss: 27.6423\n",
            "Epoch 43/100\n",
            "240/240 [==============================] - 0s 2ms/step - loss: 28.1356\n",
            "Epoch 44/100\n",
            "240/240 [==============================] - 0s 2ms/step - loss: 28.4373\n",
            "Epoch 45/100\n",
            "240/240 [==============================] - 0s 2ms/step - loss: 28.7005\n",
            "Epoch 46/100\n",
            "240/240 [==============================] - 0s 2ms/step - loss: 27.8094\n",
            "Epoch 47/100\n",
            "240/240 [==============================] - 0s 2ms/step - loss: 27.8428\n",
            "Epoch 48/100\n",
            "240/240 [==============================] - 0s 2ms/step - loss: 28.3141\n",
            "Epoch 49/100\n",
            "240/240 [==============================] - 0s 2ms/step - loss: 28.4352\n",
            "Epoch 50/100\n",
            "240/240 [==============================] - 0s 2ms/step - loss: 27.6598\n",
            "Epoch 51/100\n",
            "240/240 [==============================] - 0s 2ms/step - loss: 28.3327\n",
            "Epoch 52/100\n",
            "240/240 [==============================] - 0s 2ms/step - loss: 27.2722\n",
            "Epoch 53/100\n",
            "240/240 [==============================] - 0s 2ms/step - loss: 27.4443\n",
            "Epoch 54/100\n",
            "240/240 [==============================] - 0s 2ms/step - loss: 28.9214\n",
            "Epoch 55/100\n",
            "240/240 [==============================] - 0s 2ms/step - loss: 28.9864\n",
            "Epoch 56/100\n",
            "240/240 [==============================] - 0s 2ms/step - loss: 27.4859\n",
            "Epoch 57/100\n",
            "240/240 [==============================] - 0s 2ms/step - loss: 27.2787\n",
            "Epoch 58/100\n",
            "240/240 [==============================] - 0s 2ms/step - loss: 27.5618\n",
            "Epoch 59/100\n",
            "240/240 [==============================] - 0s 2ms/step - loss: 27.7889\n",
            "Epoch 60/100\n",
            "240/240 [==============================] - 0s 2ms/step - loss: 27.2195\n",
            "Epoch 61/100\n",
            "240/240 [==============================] - 0s 2ms/step - loss: 28.1595\n",
            "Epoch 62/100\n",
            "240/240 [==============================] - 0s 2ms/step - loss: 27.2133\n",
            "Epoch 63/100\n",
            "240/240 [==============================] - 0s 2ms/step - loss: 27.2374\n",
            "Epoch 64/100\n",
            "240/240 [==============================] - 0s 2ms/step - loss: 28.3407\n",
            "Epoch 65/100\n",
            "240/240 [==============================] - 0s 2ms/step - loss: 27.9054\n",
            "Epoch 66/100\n",
            "240/240 [==============================] - 0s 2ms/step - loss: 26.9699\n",
            "Epoch 67/100\n",
            "240/240 [==============================] - 0s 2ms/step - loss: 26.9695\n",
            "Epoch 68/100\n",
            "240/240 [==============================] - 0s 2ms/step - loss: 28.3817\n",
            "Epoch 69/100\n",
            "240/240 [==============================] - 0s 2ms/step - loss: 27.7465\n",
            "Epoch 70/100\n",
            "240/240 [==============================] - 0s 2ms/step - loss: 27.1274\n",
            "Epoch 71/100\n",
            "240/240 [==============================] - 0s 2ms/step - loss: 28.4480\n",
            "Epoch 72/100\n",
            "240/240 [==============================] - 0s 2ms/step - loss: 27.6358\n",
            "Epoch 73/100\n",
            "240/240 [==============================] - 1s 3ms/step - loss: 27.1536\n",
            "Epoch 74/100\n",
            "240/240 [==============================] - 0s 2ms/step - loss: 27.0018\n",
            "Epoch 75/100\n",
            "240/240 [==============================] - 1s 3ms/step - loss: 27.6640\n",
            "Epoch 76/100\n",
            "240/240 [==============================] - 1s 3ms/step - loss: 27.6828\n",
            "Epoch 77/100\n",
            "240/240 [==============================] - 0s 2ms/step - loss: 27.5977\n",
            "Epoch 78/100\n",
            "240/240 [==============================] - 0s 2ms/step - loss: 27.0807\n",
            "Epoch 79/100\n",
            "240/240 [==============================] - 0s 2ms/step - loss: 27.4394\n",
            "Epoch 80/100\n",
            "240/240 [==============================] - 0s 2ms/step - loss: 29.0956\n",
            "Epoch 81/100\n",
            "240/240 [==============================] - 0s 2ms/step - loss: 27.0300\n",
            "Epoch 82/100\n",
            "240/240 [==============================] - 0s 2ms/step - loss: 28.7921\n",
            "Epoch 83/100\n",
            "240/240 [==============================] - 0s 2ms/step - loss: 27.4457\n",
            "Epoch 84/100\n",
            "240/240 [==============================] - 0s 2ms/step - loss: 27.5098\n",
            "Epoch 85/100\n",
            "240/240 [==============================] - 0s 2ms/step - loss: 27.6312\n",
            "Epoch 86/100\n",
            "240/240 [==============================] - 0s 2ms/step - loss: 28.2030\n",
            "Epoch 87/100\n",
            "240/240 [==============================] - 0s 2ms/step - loss: 27.6908\n",
            "Epoch 88/100\n",
            "240/240 [==============================] - 0s 2ms/step - loss: 27.4030\n",
            "Epoch 89/100\n",
            "240/240 [==============================] - 0s 2ms/step - loss: 27.0730\n",
            "Epoch 90/100\n",
            "240/240 [==============================] - 0s 2ms/step - loss: 28.1179\n",
            "Epoch 91/100\n",
            "240/240 [==============================] - 0s 2ms/step - loss: 27.5233\n",
            "Epoch 92/100\n",
            "240/240 [==============================] - 0s 2ms/step - loss: 27.4207\n",
            "Epoch 93/100\n",
            "240/240 [==============================] - 0s 2ms/step - loss: 28.0022\n",
            "Epoch 94/100\n",
            "240/240 [==============================] - 0s 2ms/step - loss: 27.5480\n",
            "Epoch 95/100\n",
            "240/240 [==============================] - 0s 2ms/step - loss: 28.6780\n",
            "Epoch 96/100\n",
            "240/240 [==============================] - 0s 2ms/step - loss: 27.4441\n",
            "Epoch 97/100\n",
            "240/240 [==============================] - 0s 2ms/step - loss: 27.4930\n",
            "Epoch 98/100\n",
            "240/240 [==============================] - 0s 2ms/step - loss: 27.2622\n",
            "Epoch 99/100\n",
            "240/240 [==============================] - 0s 2ms/step - loss: 27.7603\n",
            "Epoch 100/100\n",
            "240/240 [==============================] - 0s 2ms/step - loss: 27.6230\n"
          ]
        },
        {
          "output_type": "execute_result",
          "data": {
            "text/plain": [
              "<keras.callbacks.History at 0x7f640ac7ce10>"
            ]
          },
          "metadata": {},
          "execution_count": 36
        }
      ]
    },
    {
      "cell_type": "code",
      "source": [
        "#Predicting the results of the Test set\n",
        "y_pred = ann.predict(X_test)\n",
        "np.set_printoptions(precision=2)\n",
        "print(np.concatenate((y_pred.reshape(len(y_pred),1), y_test.reshape(len(y_test),1)),1))"
      ],
      "metadata": {
        "colab": {
          "base_uri": "https://localhost:8080/"
        },
        "id": "7jdd6VYvrOh2",
        "outputId": "c2899015-81ce-4b66-a44f-4177859a7a4d"
      },
      "execution_count": 38,
      "outputs": [
        {
          "output_type": "stream",
          "name": "stdout",
          "text": [
            "[[430.84 431.23]\n",
            " [461.82 460.01]\n",
            " [465.3  461.14]\n",
            " ...\n",
            " [472.56 473.26]\n",
            " [439.34 438.  ]\n",
            " [458.55 463.28]]\n"
          ]
        }
      ]
    }
  ]
}